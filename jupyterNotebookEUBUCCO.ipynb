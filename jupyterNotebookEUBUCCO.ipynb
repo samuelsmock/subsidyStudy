{
 "cells": [
  {
   "cell_type": "code",
   "execution_count": 11,
   "metadata": {},
   "outputs": [],
   "source": [
    "import os\n",
    "import pandas as pd\n",
    "\n",
    "import geopandas as gpd\n",
    "from shapely import wkt\n",
    "import matplotlib.pyplot as plt\n",
    "\n",
    "#assign the boundary mask\n",
    "gdf_mask_path = r\"C:\\Users\\smock\\Desktop\\thesis_data_local\\spatial_data\\consolidatedThesisData.gpkg\"\n",
    "gdf_mask_path = gdf_mask_path.replace('\\\\', '/')\n",
    "gdf_mask = gpd.read_file(gdf_mask_path)\n",
    "\n",
    "\n",
    "#define overview file as a pandas df\n",
    "overview_df = pd.read_csv(r'C:\\Users\\smock\\Desktop\\thesis_data_local\\spatial_data\\EUBUCCO\\admin-codes-matches-v0.1.csv')\n",
    "\n",
    "\n",
    "#import sachsen data \n",
    "gdf_sachsen_path = r'C:\\Users\\smock\\Desktop\\thesis_data_local\\spatial_data\\EUBUCCO\\v0_1-DEU\\v0_1-DEU_14.gpkg\\v0_1-DEU_14.gpkg'\n",
    "gdf_sachsen_path = gdf_sachsen_path.replace('\\\\', '/')\n",
    "gdf_sachsen = gpd.read_file(gdf_sachsen_path)\n",
    "\n",
    "\n",
    "#create blank list for filtered/matched gdfs\n",
    "#output_gdf = gpd.read_file('zip:///Users/smock/Desktop/thesis_data_local/spatial_data/EUBUCCO/v0_1-DEU/v0_1-DEU_1.gpkg.zip!v0_1-DEU_1.gpkg', rows = 0) # if you have unzipped the file removed .zip\n",
    "output_list = []\n",
    "\n",
    "#matching helper function available at https://eubucco.com/tutorials/getting_started\n",
    "def match_gadm_info(df_temp,df_overview):\n",
    "    \"\"\" function to match country, region and city info from overview table with building level data\n",
    "        df_temp (dataframe):=   building level dataframe\n",
    "        df_overview:=           overview table\n",
    "    \"\"\"\n",
    "    # remove numbering at end of id str \n",
    "    df_temp['id'] = df_temp['id'].str.rsplit(\"-\", n=1).apply(lambda x: x[0])\n",
    "    # merge with overview file\n",
    "    df_out = df_temp.merge(df_overview, left_on='id',right_on='id')\n",
    "    # keep only relevant columns\n",
    "    df_out = df_out[['id','id_source','country','region','city','height','age','type','type_source','geometry']]\n",
    "    # rename back to 'id' and return\n",
    "    return df_out.rename(columns={'idx_x':'id'})\n",
    "\n",
    "match_gadm_info(gdf_sachsen, overview_df).to_file('C:/Users/smock/Desktop/thesis_data_local/spatial_data/EUBUCCO/sachsenEUBUCCO.gpkg', Driver ='GPKG')\n",
    "\n",
    "#loop throughfiles in v0_1-DEU\n",
    "# for folder in os.scandir('C:\\\\Users\\\\smock\\\\Desktop\\\\thesis_data_local\\\\spatial_data\\\\EUBUCCO\\\\v0_1-DEU'):\n",
    "#     for file in os.scandir(folder):\n",
    "#         output_list.append(gpd.read_file(os.path.abspath(file), mask = gdf_mask))\n",
    "# print(output_list[0].head(10))\n",
    "\n",
    "\n",
    "# gpd.GeoDataFrame(pd.concat(output_list, ignore_index=True), crs=output_list[0].crs).to_file('C:/Users/smock/Desktop/thesis_data_local/spatial_data/EUBUCCO/sachsenEUBUCCO.gpkg', driver ='GPKG')       \n",
    "\n",
    "\n",
    "\n"
   ]
  },
  {
   "cell_type": "code",
   "execution_count": 4,
   "metadata": {},
   "outputs": [
    {
     "name": "stdout",
     "output_type": "stream",
     "text": [
      "    scn1_Elec  scn1_Gas\n",
      "0        0.28     0.120\n",
      "1        0.31     0.125\n",
      "2        0.28     0.130\n",
      "3        0.28     0.135\n",
      "4        0.26     0.146\n",
      "5        0.25     0.154\n",
      "6        0.25     0.162\n",
      "7        0.25     0.170\n",
      "8        0.24     0.178\n",
      "9        0.24     0.186\n",
      "10       0.25     0.194\n",
      "11       0.25     0.202\n",
      "12       0.25     0.210\n",
      "13       0.25     0.218\n",
      "14       0.25     0.226\n",
      "15       0.25     0.234\n",
      "16       0.25     0.242\n",
      "17       0.25     0.250\n",
      "18       0.25     0.258\n",
      "19       0.25     0.266\n",
      "20       0.25     0.274\n",
      "21        NaN       NaN\n"
     ]
    }
   ],
   "source": [
    "import pandas as pd\n",
    "priceDict = pd.read_csv('/Users/sunshinedaydream/Desktop/thesis_data_local/non-spatial/codeDictionaries/priceDict.csv')\n",
    "\n",
    "print(priceDict.filter(like = 'scn1_', axis = 1))"
   ]
  },
  {
   "cell_type": "code",
   "execution_count": 4,
   "metadata": {},
   "outputs": [
    {
     "name": "stdout",
     "output_type": "stream",
     "text": [
      "                      id  height   age             type         id_source  \\\n",
      "0  v0.1-DEU.16.1.1.1_1-0    6.09  None      residential  DETHL58P0000g18m   \n",
      "1  v0.1-DEU.16.1.1.1_1-1    2.26  None          unknown  DETHL58P0000gfW0   \n",
      "2  v0.1-DEU.16.1.1.1_1-2    4.00  None  non-residential  DETHL58P0000DDJJ   \n",
      "3  v0.1-DEU.16.1.1.1_1-3    4.37  None             None  DETHL58P0000Xry7   \n",
      "4  v0.1-DEU.16.1.1.1_1-4    8.94  None      residential  DETHL58P0000g18K   \n",
      "5  v0.1-DEU.16.1.1.1_1-5    3.13  None  non-residential  DETHL58P0000g1aK   \n",
      "6  v0.1-DEU.16.1.1.1_1-6    2.67  None  non-residential  DETHL58P0000gomU   \n",
      "7  v0.1-DEU.16.1.1.1_1-7    3.26  None          unknown  DETHL58P0000g1bN   \n",
      "8  v0.1-DEU.16.1.1.1_1-8    2.85  None          unknown  DETHL58P0000g1co   \n",
      "9  v0.1-DEU.16.1.1.1_1-9    3.45  None  non-residential  DETHL58P0000Lm1K   \n",
      "\n",
      "  type_source                                           geometry  \n",
      "0  31001_1000  POLYGON ((4491107.122 3102440.259, 4491103.807...  \n",
      "1  31001_9998  POLYGON ((4491615.067 3102162.396, 4491615.068...  \n",
      "2  31001_2010  POLYGON ((4490934.964 3102488.059, 4490934.963...  \n",
      "3  51009_1610  POLYGON ((4491798.022 3102587.792, 4491798.021...  \n",
      "4  31001_1000  POLYGON ((4491138.161 3102605.377, 4491134.275...  \n",
      "5  31001_1310  POLYGON ((4490954.639 3102505.893, 4490954.638...  \n",
      "6  31001_2463  POLYGON ((4491661.498 3102204.103, 4491661.498...  \n",
      "7  31001_9998  POLYGON ((4490948.731 3102609.339, 4490948.730...  \n",
      "8  31001_9998  POLYGON ((4490959.251 3102796.554, 4490959.252...  \n",
      "9  31001_2463  POLYGON ((4491748.903 3102303.991, 4491748.903...  \n"
     ]
    }
   ],
   "source": [
    "import geopandas as gpd\n",
    "\n",
    "gdf = gpd.read_file(\"/Volumes/Untitled/germanyWideThesis/rawData/v0_1-DEU.gpkg\", layer = \"v0_1-DEU\", rows = 10)\n",
    "print(gdf)\n"
   ]
  },
  {
   "cell_type": "code",
   "execution_count": 1,
   "metadata": {},
   "outputs": [
    {
     "data": {
      "text/plain": [
       "{'AeronavFAA': 'r',\n",
       " 'ARCGEN': 'r',\n",
       " 'BNA': 'rw',\n",
       " 'DXF': 'rw',\n",
       " 'CSV': 'raw',\n",
       " 'OpenFileGDB': 'r',\n",
       " 'ESRIJSON': 'r',\n",
       " 'ESRI Shapefile': 'raw',\n",
       " 'GeoJSON': 'raw',\n",
       " 'GeoJSONSeq': 'rw',\n",
       " 'GPKG': 'raw',\n",
       " 'GML': 'rw',\n",
       " 'OGR_GMT': 'rw',\n",
       " 'GPX': 'rw',\n",
       " 'GPSTrackMaker': 'rw',\n",
       " 'Idrisi': 'r',\n",
       " 'MapInfo File': 'raw',\n",
       " 'DGN': 'raw',\n",
       " 'PCIDSK': 'raw',\n",
       " 'OGR_PDS': 'r',\n",
       " 'S57': 'r',\n",
       " 'SEGY': 'r',\n",
       " 'SQLite': 'raw',\n",
       " 'SUA': 'r',\n",
       " 'TopoJSON': 'r'}"
      ]
     },
     "execution_count": 1,
     "metadata": {},
     "output_type": "execute_result"
    }
   ],
   "source": [
    "import fiona\n",
    "fiona.supported_drivers"
   ]
  }
 ],
 "metadata": {
  "kernelspec": {
   "display_name": "base",
   "language": "python",
   "name": "python3"
  },
  "language_info": {
   "codemirror_mode": {
    "name": "ipython",
    "version": 3
   },
   "file_extension": ".py",
   "mimetype": "text/x-python",
   "name": "python",
   "nbconvert_exporter": "python",
   "pygments_lexer": "ipython3",
   "version": "3.10.9"
  },
  "orig_nbformat": 4
 },
 "nbformat": 4,
 "nbformat_minor": 2
}
