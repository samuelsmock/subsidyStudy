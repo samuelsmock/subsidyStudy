{
 "cells": [
  {
   "cell_type": "code",
   "execution_count": 1,
   "metadata": {},
   "outputs": [
    {
     "ename": "NameError",
     "evalue": "name 'pd' is not defined",
     "output_type": "error",
     "traceback": [
      "\u001b[0;31m---------------------------------------------------------------------------\u001b[0m",
      "\u001b[0;31mNameError\u001b[0m                                 Traceback (most recent call last)",
      "Cell \u001b[0;32mIn[1], line 24\u001b[0m\n\u001b[1;32m     21\u001b[0m         gdf_list\u001b[38;5;241m.\u001b[39mappend(gdf)\n\u001b[1;32m     23\u001b[0m \u001b[38;5;66;03m# Combine all GeoDataFrames into a single GeoDataFrame\u001b[39;00m\n\u001b[0;32m---> 24\u001b[0m combined_gdf \u001b[38;5;241m=\u001b[39m gpd\u001b[38;5;241m.\u001b[39mGeoDataFrame(\u001b[43mpd\u001b[49m\u001b[38;5;241m.\u001b[39mconcat(gdf_list, ignore_index\u001b[38;5;241m=\u001b[39m\u001b[38;5;28;01mTrue\u001b[39;00m))\n\u001b[1;32m     26\u001b[0m \u001b[38;5;66;03m# Save the combined GeoDataFrame to a new geodatabase\u001b[39;00m\n\u001b[1;32m     27\u001b[0m \u001b[38;5;66;03m# Ensure the directory for the output geodatabase exists\u001b[39;00m\n\u001b[1;32m     28\u001b[0m os\u001b[38;5;241m.\u001b[39mmakedirs(os\u001b[38;5;241m.\u001b[39mpath\u001b[38;5;241m.\u001b[39mdirname(output_gdb), exist_ok\u001b[38;5;241m=\u001b[39m\u001b[38;5;28;01mTrue\u001b[39;00m)\n",
      "\u001b[0;31mNameError\u001b[0m: name 'pd' is not defined"
     ]
    }
   ],
   "source": [
    "import os\n",
    "import geopandas as gpd\n",
    "import fiona\n",
    "\n",
    "# Directory containing the shapefiles\n",
    "input_directory = '/Users/sunshinedaydream/Documents/germanWideDataPurgatory/buildingShapeFiles'\n",
    "# Output file path for the new geodatabase\n",
    "output_gdb = '/Users/sunshinedaydream/Documents/germanWideDataPurgatory/output.gdb'\n",
    "# Layer name in the geodatabase\n",
    "layer_name = 'buildings'\n",
    "\n",
    "# List to store all GeoDataFrames\n",
    "gdf_list = []\n",
    "\n",
    "# Iterate over the files in the input directory\n",
    "for filename in os.listdir(input_directory):\n",
    "    if filename.endswith('.shp'):\n",
    "        # Read the shapefile\n",
    "        file_path = os.path.join(input_directory, filename)\n",
    "        gdf = gpd.read_file(file_path)\n",
    "        gdf_list.append(gdf)\n",
    "\n",
    "# Combine all GeoDataFrames into a single GeoDataFrame\n",
    "combined_gdf = gpd.GeoDataFrame(pd.concat(gdf_list, ignore_index=True))\n",
    "\n",
    "# Save the combined GeoDataFrame to a new geodatabase\n",
    "# Ensure the directory for the output geodatabase exists\n",
    "os.makedirs(os.path.dirname(output_gdb), exist_ok=True)\n",
    "\n",
    "# Check if the output geodatabase already exists and create it if not\n",
    "if not os.path.exists(output_gdb):\n",
    "    with fiona.open(output_gdb, 'w', driver='FileGDB') as gdb:\n",
    "        pass\n",
    "\n",
    "# Save the combined GeoDataFrame to the geodatabase\n",
    "combined_gdf.to_file(output_gdb, layer=layer_name, driver='FileGDB')\n",
    "\n",
    "print(f\"Combined shapefiles saved to {output_gdb} in layer {layer_name}\")\n"
   ]
  }
 ],
 "metadata": {
  "kernelspec": {
   "display_name": "base",
   "language": "python",
   "name": "python3"
  },
  "language_info": {
   "codemirror_mode": {
    "name": "ipython",
    "version": 3
   },
   "file_extension": ".py",
   "mimetype": "text/x-python",
   "name": "python",
   "nbconvert_exporter": "python",
   "pygments_lexer": "ipython3",
   "version": "3.10.9"
  },
  "orig_nbformat": 4,
  "vscode": {
   "interpreter": {
    "hash": "2bf436928126b5fb003909d43137d5350c5b84f1875595db1647501f29b069ea"
   }
  }
 },
 "nbformat": 4,
 "nbformat_minor": 2
}
